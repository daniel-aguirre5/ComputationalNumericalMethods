{
  "cells": [
    {
      "cell_type": "markdown",
      "id": "human-paint",
      "metadata": {
        "id": "human-paint"
      },
      "source": [
        "# Homework 05"
      ]
    },
    {
      "cell_type": "markdown",
      "id": "equivalent-australian",
      "metadata": {
        "id": "equivalent-australian"
      },
      "source": [
        "### Task 1\n",
        "\n",
        "Write your own Simpson method to numerically calculate integral \n",
        "\n",
        "`my_simps(some_func,a,b,n)`\n",
        "* some_func\n",
        "* a: left limit \n",
        "* b: right limit\n",
        "* n: number of segments\n",
        "for example:\n",
        "\n",
        "#### for any a,b,n, func"
      ]
    },
    {
      "cell_type": "markdown",
      "id": "ultimate-traveler",
      "metadata": {
        "id": "ultimate-traveler"
      },
      "source": [
        "### example"
      ]
    },
    {
      "cell_type": "code",
      "source": [
        "import numpy as np\n",
        "import scipy.integrate as integrate\n",
        "import matplotlib.pyplot as plt"
      ],
      "metadata": {
        "id": "Xef8huNmolM-"
      },
      "id": "Xef8huNmolM-",
      "execution_count": 1,
      "outputs": []
    },
    {
      "cell_type": "code",
      "execution_count": 2,
      "id": "frozen-microwave",
      "metadata": {
        "id": "frozen-microwave"
      },
      "outputs": [],
      "source": [
        "def some_func(x):\n",
        "    return np.exp(x)"
      ]
    },
    {
      "cell_type": "code",
      "execution_count": 3,
      "id": "recognized-footwear",
      "metadata": {
        "id": "recognized-footwear"
      },
      "outputs": [],
      "source": [
        "a=1.5\n",
        "b=2.5\n",
        "n=4"
      ]
    },
    {
      "cell_type": "code",
      "execution_count": 4,
      "id": "unavailable-fluid",
      "metadata": {
        "id": "unavailable-fluid"
      },
      "outputs": [],
      "source": [
        "def my_simps(some_func,a,b,n):\n",
        "  h = (b-a)/n\n",
        "  x0 = a\n",
        "  x1 = x0+h\n",
        "  x2 = x0+2*h\n",
        "  x3 = x0+3*h\n",
        "  x4 = x0+4*h\n",
        "\n",
        "  I = (h/3)*(some_func(x0)+4*some_func(x1)+2*some_func(x2)+4*some_func(x3)+some_func(x4))\n",
        "   \n",
        "  return I"
      ]
    },
    {
      "cell_type": "code",
      "execution_count": 5,
      "id": "stock-smart",
      "metadata": {
        "colab": {
          "base_uri": "https://localhost:8080/"
        },
        "id": "stock-smart",
        "outputId": "aa0dc5f7-7f54-4cf8-c77a-b6ce7fef33e6"
      },
      "outputs": [
        {
          "output_type": "stream",
          "name": "stdout",
          "text": [
            "7.700970773196655\n"
          ]
        }
      ],
      "source": [
        "I=my_simps(some_func,a,b,n)\n",
        "print(I)"
      ]
    },
    {
      "cell_type": "code",
      "source": [
        "I_quad,error=integrate.quad(some_func,a,b) # Usando librerías\n",
        "print(I_quad,error)"
      ],
      "metadata": {
        "colab": {
          "base_uri": "https://localhost:8080/"
        },
        "id": "LDLLnV68oL2A",
        "outputId": "d03ab2d4-4288-4ff0-d801-0f9582ab697d"
      },
      "id": "LDLLnV68oL2A",
      "execution_count": 6,
      "outputs": [
        {
          "output_type": "stream",
          "name": "stdout",
          "text": [
            "7.70080489036541 8.549610897429682e-14\n"
          ]
        }
      ]
    },
    {
      "cell_type": "markdown",
      "id": "recovered-modern",
      "metadata": {
        "id": "recovered-modern"
      },
      "source": [
        "### Task 2\n",
        "\n",
        "Solve the following integral numerically\n",
        "\n",
        "$$I = \\int_{1}^{9} \\frac{b x^2 + x^2 \\sqrt(x) - 1}{x^2} dx$$\n",
        "\n",
        "Initially b=2\n",
        "\n",
        "Then make a plot for $I$ vs 10 different values of b=[0,1,2,3,4,5,6,7,8,9] "
      ]
    },
    {
      "cell_type": "markdown",
      "source": [
        "**Para b=2**"
      ],
      "metadata": {
        "id": "c3xZkrVx1-VA"
      },
      "id": "c3xZkrVx1-VA"
    },
    {
      "cell_type": "code",
      "source": [
        "def function(x):\n",
        "  return (2*x**2+(x**2)*np.sqrt(x)-1)/(x**2)"
      ],
      "metadata": {
        "id": "s-ONbAoqzLeA"
      },
      "id": "s-ONbAoqzLeA",
      "execution_count": 7,
      "outputs": []
    },
    {
      "cell_type": "code",
      "source": [
        "A = 1\n",
        "B = 9\n",
        "n = 10000"
      ],
      "metadata": {
        "id": "LNC0UPKuz2rN"
      },
      "id": "LNC0UPKuz2rN",
      "execution_count": 8,
      "outputs": []
    },
    {
      "cell_type": "code",
      "source": [
        "def simps(function,A,B,n): # Código escrito en forma general. Acepta cualquier valor para A, B y n.\n",
        "    h = (B-A)/n\n",
        "    x0 = A\n",
        "    x = []\n",
        "    for i in range(n+1):\n",
        "      x_i = x0 + i*h\n",
        "      x.append(x_i)\n",
        "    x = np.array(x)\n",
        "\n",
        "    I_sum = function(x[0]) + function(x[-1])\n",
        "\n",
        "    for j in range(1,len(x)):\n",
        "      if j%2 == 1:\n",
        "        I_j =  4*function(x[j]) \n",
        "        I_sum = I_sum + I_j\n",
        "      elif j%2 == 0:\n",
        "        I_j = 2*function(x[j])\n",
        "        I_sum = I_sum + I_j\n",
        "    I = (h/3)*I_sum\n",
        "\n",
        "    return I"
      ],
      "metadata": {
        "id": "S7i_xUGqcHEV"
      },
      "id": "S7i_xUGqcHEV",
      "execution_count": 9,
      "outputs": []
    },
    {
      "cell_type": "code",
      "source": [
        "integral = simps(function,A,B,n)\n",
        "print(integral)"
      ],
      "metadata": {
        "colab": {
          "base_uri": "https://localhost:8080/"
        },
        "id": "i6qppSb80956",
        "outputId": "a096beae-8353-4cdb-e741-55ce7a0afa80"
      },
      "id": "i6qppSb80956",
      "execution_count": 10,
      "outputs": [
        {
          "output_type": "stream",
          "name": "stdout",
          "text": [
            "32.447104526748824\n"
          ]
        }
      ]
    },
    {
      "cell_type": "code",
      "source": [
        "I_quad,error=integrate.quad(function,A,B) # Usando librerías\n",
        "print(I_quad,error)"
      ],
      "metadata": {
        "colab": {
          "base_uri": "https://localhost:8080/"
        },
        "id": "6mHLTN252ZtZ",
        "outputId": "485ef036-bb5e-4903-eecb-bc623509514f"
      },
      "id": "6mHLTN252ZtZ",
      "execution_count": 11,
      "outputs": [
        {
          "output_type": "stream",
          "name": "stdout",
          "text": [
            "32.44444444444443 6.278273582403283e-08\n"
          ]
        }
      ]
    },
    {
      "cell_type": "markdown",
      "source": [
        "**Para b=[0,1,2,3,4,5,6,7,8,9]**"
      ],
      "metadata": {
        "id": "dLgzLtorG9ei"
      },
      "id": "dLgzLtorG9ei"
    },
    {
      "cell_type": "code",
      "source": [
        "A = 1\n",
        "B = 9\n",
        "b = [0,1,2,3,4,5,6,7,8,9]\n",
        "b = np.array(b)\n",
        "n = 10000\n",
        "print(b)"
      ],
      "metadata": {
        "colab": {
          "base_uri": "https://localhost:8080/"
        },
        "id": "VVb1b0xlHJ8v",
        "outputId": "6d7b0667-298e-491e-dfe8-0220928790fb"
      },
      "id": "VVb1b0xlHJ8v",
      "execution_count": 12,
      "outputs": [
        {
          "output_type": "stream",
          "name": "stdout",
          "text": [
            "[0 1 2 3 4 5 6 7 8 9]\n"
          ]
        }
      ]
    },
    {
      "cell_type": "code",
      "source": [
        "def funcion(x,c):\n",
        "  return (c*x**2+(x**2)*np.sqrt(x)-1)/(x**2)"
      ],
      "metadata": {
        "id": "YObpb0WKHUmE"
      },
      "id": "YObpb0WKHUmE",
      "execution_count": 13,
      "outputs": []
    },
    {
      "cell_type": "code",
      "source": [
        "def simps(funcion,A,B,n,c): # Código escrito en forma general. Acepta cualquier valor para A, B, c y n.\n",
        "    h = (B-A)/n\n",
        "    x0 = A\n",
        "    x = []\n",
        "    for i in range(n+1):\n",
        "      x_i = x0 + i*h\n",
        "      x.append(x_i)\n",
        "    x = np.array(x)\n",
        "\n",
        "    I_sum = funcion(x[0],c) + funcion(x[-1],c)\n",
        "\n",
        "    for j in range(1,len(x)):\n",
        "      if j%2 == 1:\n",
        "        I_j =  4*funcion(x[j],c) \n",
        "        I_sum = I_sum + I_j\n",
        "      elif j%2 == 0:\n",
        "        I_j = 2*funcion(x[j],c)\n",
        "        I_sum = I_sum + I_j\n",
        "    I = (h/3)*I_sum\n",
        "\n",
        "    return I"
      ],
      "metadata": {
        "id": "hZde1IN_J7v8"
      },
      "id": "hZde1IN_J7v8",
      "execution_count": 14,
      "outputs": []
    },
    {
      "cell_type": "code",
      "source": [
        "Is = []\n",
        "for k in b:\n",
        "  I_i = simps(funcion,A,B,n,k)\n",
        "  Is.append(I_i)\n",
        "\n",
        "Is = np.array(Is)\n",
        "print(Is)"
      ],
      "metadata": {
        "id": "AIIysnw0KWAR",
        "colab": {
          "base_uri": "https://localhost:8080/"
        },
        "outputId": "8d05e002-7bc8-43ca-8297-ec8270f1529a"
      },
      "id": "AIIysnw0KWAR",
      "execution_count": 15,
      "outputs": [
        {
          "output_type": "stream",
          "name": "stdout",
          "text": [
            "[16.44603786 24.44657119 32.44710453 40.44763786 48.44817119 56.44870453\n",
            " 64.44923786 72.44977119 80.45030453 88.45083786]\n"
          ]
        }
      ]
    },
    {
      "cell_type": "code",
      "source": [
        "fig,ax=plt.subplots(1,1,figsize=(10,8))\n",
        "ax.plot(b,Is,'*r')\n",
        "ax.grid('True')\n",
        "ax.set_xlabel('b')\n",
        "ax.set_ylabel('Integral')\n",
        "plt.title('Gráfica de Integrales vs b')\n",
        "ax.legend()"
      ],
      "metadata": {
        "id": "ZL-l-TM_LX5K",
        "colab": {
          "base_uri": "https://localhost:8080/",
          "height": 548
        },
        "outputId": "f694afa0-7bc2-4ed2-b326-388ae32cd969"
      },
      "id": "ZL-l-TM_LX5K",
      "execution_count": 16,
      "outputs": [
        {
          "output_type": "stream",
          "name": "stderr",
          "text": [
            "WARNING:matplotlib.legend:No handles with labels found to put in legend.\n"
          ]
        },
        {
          "output_type": "execute_result",
          "data": {
            "text/plain": [
              "<matplotlib.legend.Legend at 0x7f684657ee50>"
            ]
          },
          "metadata": {},
          "execution_count": 16
        },
        {
          "output_type": "display_data",
          "data": {
            "text/plain": [
              "<Figure size 720x576 with 1 Axes>"
            ],
            "image/png": "[encoded data removed]"
          },
          "metadata": {
            "needs_background": "light"
          }
        }
      ]
    }
  ],
  "metadata": {
    "kernelspec": {
      "display_name": "Python 3",
      "language": "python",
      "name": "python3"
    },
    "language_info": {
      "codemirror_mode": {
        "name": "ipython",
        "version": 3
      },
      "file_extension": ".py",
      "mimetype": "text/x-python",
      "name": "python",
      "nbconvert_exporter": "python",
      "pygments_lexer": "ipython3",
      "version": "3.7.2"
    },
    "colab": {
      "name": "homework_05.ipynb",
      "provenance": [],
      "collapsed_sections": []
    }
  },
  "nbformat": 4,
  "nbformat_minor": 5
}