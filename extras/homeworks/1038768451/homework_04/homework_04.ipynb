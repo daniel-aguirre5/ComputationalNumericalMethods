{
  "cells": [
    {
      "cell_type": "markdown",
      "id": "intimate-walter",
      "metadata": {
        "id": "intimate-walter"
      },
      "source": [
        "# Homework 04:\n",
        "\n",
        "* create notebook called: homework_6.ipynb (no spaces please)\n",
        "\n",
        "* inside write a function: `deriv(func,a,method,h)`\n",
        "`func` is a function that I can define\n",
        "`a` is a point (float) at which I wante to evaluate the derivative\n",
        "`method` is a string, and can have three options `forward`,`central`,`backward`\n",
        "`h` is a step\n",
        "\n",
        "* ***remember the function must not print anything, just return a single value***!!!\n",
        "* to choose between schemes ('central','forward'..) use `if`, `elif`"
      ]
    },
    {
      "cell_type": "markdown",
      "source": [
        "**forward difference:**    \n",
        "$$ f'(x_i) \\approx \\frac{f(x_{i+1}) - f(x_i)}{h}$$\n",
        "\n",
        "**backward difference:**\n",
        "\n",
        "$$ f'(x_i) \\approx \\frac{f(x_i) - f(x_{i-1})}{h}$$\n",
        "    \n",
        "**central difference:**\n",
        "    \n",
        "$$ f'(x_i) \\approx \\frac{f(x_{i+1}) - f(x_{i-1})}{2h}) $$\n"
      ],
      "metadata": {
        "id": "SWPhvsMhEo8a"
      },
      "id": "SWPhvsMhEo8a"
    },
    {
      "cell_type": "code",
      "execution_count": 1,
      "id": "documentary-percentage",
      "metadata": {
        "id": "documentary-percentage"
      },
      "outputs": [],
      "source": [
        "import numpy as np\n",
        "from scipy.misc import derivative"
      ]
    },
    {
      "cell_type": "code",
      "source": [
        "def deriv(func,a,method,h):\n",
        "  if method == 'forward':\n",
        "    derivada = (func(a+h) - func(a))/h\n",
        "  elif method == 'backward':\n",
        "    derivada = (func(a) - func(a-h))/h\n",
        "  elif method == 'central':\n",
        "    derivada = (func(a+h) - func(a-h))/(2*h)\n",
        "  \n",
        "  return derivada"
      ],
      "metadata": {
        "id": "JhMgrc0_1SBk"
      },
      "id": "JhMgrc0_1SBk",
      "execution_count": 2,
      "outputs": []
    },
    {
      "cell_type": "code",
      "source": [
        "def f(x):\n",
        "  y = x**3 + 2*x\n",
        "  return y"
      ],
      "metadata": {
        "id": "UdIGlOaI48fs"
      },
      "id": "UdIGlOaI48fs",
      "execution_count": 3,
      "outputs": []
    },
    {
      "cell_type": "code",
      "source": [
        "y_prima = deriv(f,2.0,'forward',1.0e-5) # method = forward\n",
        "print(y_prima)"
      ],
      "metadata": {
        "colab": {
          "base_uri": "https://localhost:8080/"
        },
        "id": "OQGBJh915QVi",
        "outputId": "909e4de4-69b4-4422-deba-dea9e262bf97"
      },
      "id": "OQGBJh915QVi",
      "execution_count": 4,
      "outputs": [
        {
          "output_type": "stream",
          "name": "stdout",
          "text": [
            "14.000060000185497\n"
          ]
        }
      ]
    },
    {
      "cell_type": "code",
      "source": [
        "y_prima = deriv(f,2.0,'backward',1.0e-5) # method = backward\n",
        "print(y_prima)"
      ],
      "metadata": {
        "colab": {
          "base_uri": "https://localhost:8080/"
        },
        "id": "BBtQIjaO6i_5",
        "outputId": "3d2c17de-9ae1-443b-efc5-e59f2fa393a4"
      },
      "id": "BBtQIjaO6i_5",
      "execution_count": 5,
      "outputs": [
        {
          "output_type": "stream",
          "name": "stdout",
          "text": [
            "13.999940000175568\n"
          ]
        }
      ]
    },
    {
      "cell_type": "code",
      "source": [
        "y_prima = deriv(f,2.0,'central',1.0e-5) # method = central\n",
        "print(y_prima)"
      ],
      "metadata": {
        "colab": {
          "base_uri": "https://localhost:8080/"
        },
        "id": "PicAPYjN6vx2",
        "outputId": "2e3302a7-e940-4a87-9c36-ec52555ddb37"
      },
      "id": "PicAPYjN6vx2",
      "execution_count": 6,
      "outputs": [
        {
          "output_type": "stream",
          "name": "stdout",
          "text": [
            "14.000000000180533\n"
          ]
        }
      ]
    },
    {
      "cell_type": "code",
      "source": [
        "y_prima = derivative(f,2.0,dx=1.0e-5) # Usando la librería\n",
        "print(y_prima)"
      ],
      "metadata": {
        "colab": {
          "base_uri": "https://localhost:8080/"
        },
        "id": "bQpCmDpN7Eir",
        "outputId": "5f2780cf-3661-42ae-c341-97407f646c75"
      },
      "id": "bQpCmDpN7Eir",
      "execution_count": 7,
      "outputs": [
        {
          "output_type": "stream",
          "name": "stdout",
          "text": [
            "14.000000000180533\n"
          ]
        }
      ]
    }
  ],
  "metadata": {
    "kernelspec": {
      "display_name": "Python 3",
      "language": "python",
      "name": "python3"
    },
    "language_info": {
      "codemirror_mode": {
        "name": "ipython",
        "version": 3
      },
      "file_extension": ".py",
      "mimetype": "text/x-python",
      "name": "python",
      "nbconvert_exporter": "python",
      "pygments_lexer": "ipython3",
      "version": "3.7.2"
    },
    "colab": {
      "name": "homework_04.ipynb",
      "provenance": [],
      "collapsed_sections": []
    }
  },
  "nbformat": 4,
  "nbformat_minor": 5
}