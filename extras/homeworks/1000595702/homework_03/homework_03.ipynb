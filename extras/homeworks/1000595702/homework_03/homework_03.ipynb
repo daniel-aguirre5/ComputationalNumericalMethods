{
  "nbformat": 4,
  "nbformat_minor": 0,
  "metadata": {
    "colab": {
      "name": "homework_03.ipynb",
      "provenance": [],
      "collapsed_sections": []
    },
    "kernelspec": {
      "name": "python3",
      "display_name": "Python 3"
    },
    "language_info": {
      "name": "python"
    }
  },
  "cells": [
    {
      "cell_type": "markdown",
      "source": [
        "\n",
        "##Homework_03:\n",
        "\n",
        "* this is the right way to program - just making functions and classes and calling them!!!\n",
        "\n",
        "* create notebook called: homework_03.ipynb (no spaces please)\n",
        "\n",
        "* inside write a function: quadratic_interp(x,y,xinterp):\n",
        "\n",
        "quadratic_interp(x,y,xinterp) accepts three elements (vector x, vector y and float xinterp to be interpolated) an returns yinterp value of the interpolated point xinterp\n",
        "\n",
        "* use b_coeffs() function to find b_0,b_1,b_2...\n",
        "\n",
        "* test your function before submitting\n",
        "\n",
        "* **remember the function must not print anything, just return a single value!!**"
      ],
      "metadata": {
        "id": "r7VZtgcKwvwZ"
      }
    },
    {
      "cell_type": "code",
      "execution_count": null,
      "metadata": {
        "id": "C9NEEoAtBkH0"
      },
      "outputs": [],
      "source": [
        "import numpy as np\n",
        "from scipy.interpolate import interp1d\n",
        "from scipy import interpolate\n",
        "import matplotlib.pyplot as plt"
      ]
    },
    {
      "cell_type": "code",
      "source": [
        "def b_coeffs(i,k,X,Y):\n",
        "    #i, k are the first and last INDEX of `x`\n",
        "    #If i+k>N\n",
        "    if i+k>=len(X):\n",
        "        return 0\n",
        "    #Zeroth divided difference\n",
        "    elif k == 0:\n",
        "        return Y[i]\n",
        "    #If higher divided difference\n",
        "    else:\n",
        "        return (b_coeffs(i+1, k-1, X, Y)-b_coeffs(i, k-1, X, Y))/(X[i+k]-X[i])       "
      ],
      "metadata": {
        "id": "AX9djFGuDibF"
      },
      "execution_count": null,
      "outputs": []
    },
    {
      "cell_type": "code",
      "source": [
        "x=np.array([4,5,6])\n",
        "y=np.array([np.log10(4),np.log10(5),np.log10(6)])\n",
        "b_coeffs(0,0,x,y)"
      ],
      "metadata": {
        "colab": {
          "base_uri": "https://localhost:8080/"
        },
        "id": "N05WkrEiwY5B",
        "outputId": "f93d63d0-4a41-4260-8b29-519b63f6906a"
      },
      "execution_count": null,
      "outputs": [
        {
          "output_type": "execute_result",
          "data": {
            "text/plain": [
              "0.6020599913279624"
            ]
          },
          "metadata": {},
          "execution_count": 20
        }
      ]
    },
    {
      "cell_type": "code",
      "source": [
        "def quadratic_interp(x,y,xinterp):\n",
        "    yinterp = b_coeffs(0,0,x,y) + b_coeffs(0,1,x,y) * (xinterp-x[0]) + b_coeffs(0,2,x,y) * (xinterp-x[0]) * (xinterp-x[1])\n",
        "    return yinterp"
      ],
      "metadata": {
        "id": "RRBQUcq_Yr3w"
      },
      "execution_count": null,
      "outputs": []
    },
    {
      "cell_type": "code",
      "source": [
        "test_vals=np.arange(3,7,0.1)\n",
        "\n",
        "my_results=[]\n",
        "for val in test_vals:\n",
        "    result=quadratic_interp(x,y,val)\n",
        "    my_results.append(result)\n",
        "fig,ax=plt.subplots(1,1)\n",
        "ax.scatter(x,y,c='r',s=100,label='given points')\n",
        "ax.plot(test_vals,my_results,'.k',label='interpolated values (quadratic pol.)') \n",
        "ax.legend()"
      ],
      "metadata": {
        "colab": {
          "base_uri": "https://localhost:8080/",
          "height": 286
        },
        "id": "HQN2Sp64zFoF",
        "outputId": "a9c3b3a7-73e7-49f9-cfa8-0eb289abb674"
      },
      "execution_count": null,
      "outputs": [
        {
          "output_type": "execute_result",
          "data": {
            "text/plain": [
              "<matplotlib.legend.Legend at 0x7f9805495250>"
            ]
          },
          "metadata": {},
          "execution_count": 25
        },
        {
          "output_type": "display_data",
          "data": {
            "text/plain": [
              "<Figure size 432x288 with 1 Axes>"
            ],
            "image/png": "[encoded data removed]"
          },
          "metadata": {
            "needs_background": "light"
          }
        }
      ]
    }
  ]
}