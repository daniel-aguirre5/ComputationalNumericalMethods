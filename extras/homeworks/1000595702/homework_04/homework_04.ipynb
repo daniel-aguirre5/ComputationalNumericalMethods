{
  "nbformat": 4,
  "nbformat_minor": 0,
  "metadata": {
    "colab": {
      "name": "homewoek_04.ipynb",
      "provenance": []
    },
    "kernelspec": {
      "name": "python3",
      "display_name": "Python 3"
    },
    "language_info": {
      "name": "python"
    }
  },
  "cells": [
    {
      "cell_type": "code",
      "source": [
        "def func(x):\n",
        "  return x**2+1"
      ],
      "metadata": {
        "id": "v6oHnTb-VgtZ"
      },
      "execution_count": null,
      "outputs": []
    },
    {
      "cell_type": "code",
      "execution_count": null,
      "metadata": {
        "id": "vFrI4D7HQbga"
      },
      "outputs": [],
      "source": [
        "def deriv(func, a, method='central', h=1e-1):\n",
        "  if method == 'forward':\n",
        "    return (func(a + h) - func(a))/h\n",
        "  elif method == 'central':\n",
        "    return (func(a) - func(a - h))/h\n",
        "  elif method == 'backward':\n",
        "    return (func(a + h) - func(a - h))/(2*h)\n",
        "  else:\n",
        "    raise ValueError('You can only choose a method: forward, central and backward.')"
      ]
    },
    {
      "cell_type": "code",
      "source": [
        "deriv(func, 1)"
      ],
      "metadata": {
        "colab": {
          "base_uri": "https://localhost:8080/"
        },
        "id": "G3aF6oDiVVCX",
        "outputId": "531b577e-da4e-4905-ec9c-9f10e9dd56a9"
      },
      "execution_count": null,
      "outputs": [
        {
          "output_type": "execute_result",
          "data": {
            "text/plain": [
              "1.8999999999999995"
            ]
          },
          "metadata": {},
          "execution_count": 41
        }
      ]
    }
  ]
}