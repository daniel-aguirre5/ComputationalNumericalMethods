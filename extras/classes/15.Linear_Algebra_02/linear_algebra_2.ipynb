{
 "cells": [
  {
   "cell_type": "markdown",
   "id": "hearing-ordering",
   "metadata": {},
   "source": [
    "#### Key points to remember\n",
    "* np.linalg.solve() uses LU decomposition (LU factorization)\n",
    "* how does it work more or less (with time it will be difficult to remember all)"
   ]
  },
  {
   "cell_type": "markdown",
   "id": "surprised-officer",
   "metadata": {},
   "source": [
    "## LU decomposition (motivation)\n",
    "***x=np.linalg.solve(A, b)*** # uses LU decomposition not Gaussian Elimination!!!\n",
    "(thats what you used during your homework)\n",
    "\n",
    "***A_inv=np.linalg.inv(A)*** # uses LU decomposition !!!\n",
    "(thats what you used during your homework)\n",
    "\n",
    "https://software.intel.com/sites/products/documentation/doclib/mkl_sa/11/mkl_lapack_examples/cgesv.htm"
   ]
  },
  {
   "cell_type": "markdown",
   "id": "specified-newport",
   "metadata": {},
   "source": [
    "## Advantages of LU decomposition vs Gaussian Elimination\n",
    "* classical problem Ax=b\n",
    "* Gaussian elimination is relatively fast but quite often impractical\n",
    "* there are situations (differential equations) when A is constant and b keeps changing\n",
    "* so using the Gaussian elimination even when A is constant and only b is changing one has to do all the operations on both arrays! (because we solve the augmented form)\n",
    "* in other words: for a constant A and many different bs then you only need to calculate the LU decomposition of A once and it can be reused for each b. However with Gauss-Jordan elimination you would have to re-do all the work for each b\n",
    "* why: because if b is changing we have to redo all the operations so there must be a better method\n",
    "* besides GE is unstable sometimes\n",
    "* if Ax = b, then for a constant A and many different bs then you only need to calculate the LU decomposition of A once and it can be reused for each b. However with Gauss-Jordan elimination you would have to re-do all the work for each b\n",
    "\n",
    "The system of equations \n",
    "\n",
    "$$ A \\textbf{x} =  \\begin{bmatrix}\n",
    "a_{11} & a_{12} & \\cdots & a_{1n} \\\\\n",
    "a_{21} & a_{22} & \\cdots & a_{2n} \\\\\n",
    "\\vdots & \\vdots & & \\vdots\\\\\n",
    "a_{m1} & a_{m2} & \\cdots & a_{mn} \n",
    "\\end{bmatrix} \n",
    "\\begin{bmatrix}\n",
    "x_{1} \\\\\n",
    "x_{2} \\\\\n",
    "\\vdots\\\\\n",
    "x_{n} \n",
    "\\end{bmatrix}  = b = \n",
    "\\begin{bmatrix}\n",
    "b_{1} \\\\\n",
    "b_{2} \\\\\n",
    "\\vdots\\\\\n",
    "b_{n} \n",
    "\\end{bmatrix}$$"
   ]
  },
  {
   "cell_type": "markdown",
   "id": "wireless-calendar",
   "metadata": {},
   "source": [
    "### What is LU decomposition and how it works\n",
    "LU stands for Lower Upper, here is why:"
   ]
  },
  {
   "cell_type": "markdown",
   "id": "polish-maria",
   "metadata": {},
   "source": [
    "A matrix A can be decomposed into a product of an lower triangle and upper triangle matrices\n",
    "\n",
    "                                          [lower triangle][upper triangle]\n",
    "\n",
    "$$A=LU$$\n",
    "$$ A = \n",
    "\\begin{bmatrix}\n",
    "a_{11} & a_{12} &  a_{13} \\\\\n",
    "a_{21} & a_{22} &  a_{23} \\\\\n",
    "a_{31} & a_{32} &  a_{33}\n",
    "\\end{bmatrix}\n",
    " =\n",
    "\\begin{bmatrix}\n",
    "1 & 0 &  0 \\\\\n",
    "L_{21} & 1 &  0 \\\\\n",
    "L_{31} & L_{32} &  1\n",
    "\\end{bmatrix}\n",
    "\\begin{bmatrix}\n",
    "U_{11} & U_{12} &  U_{13} \\\\\n",
    "0 & U_{22} &  U_{23} \\\\\n",
    "0 & 0 &  U_{33}\n",
    "\\end{bmatrix}\n",
    "$$\n",
    "\n",
    "* The decomposition (factorization) is basically done the same way as Gaussian elimination \n",
    "* but how from one matrix two matrices appear?\n",
    "* we can multiply any matrix my identity ***I*** matrix and this doesnt change anything \n",
    "* its like $ 1*x = x$\n",
    "$$\n",
    "\\begin{bmatrix}\n",
    "1 & 0 &  0 \\\\\n",
    "0 & 1 &  0 \\\\\n",
    "0 & 0 &  1\n",
    "\\end{bmatrix}\n",
    "\\begin{bmatrix}\n",
    "a_{11} & a_{12} &  a_{13} \\\\\n",
    "a_{21} & a_{22} &  a_{23} \\\\\n",
    "a_{31} & a_{32} &  a_{33}\n",
    "\\end{bmatrix}\n",
    "$$\n",
    "and on those two matrices we do the operations as explained in the previous class\n",
    "until one gets two lower and upper matrices"
   ]
  },
  {
   "cell_type": "code",
   "execution_count": 1,
   "id": "advanced-international",
   "metadata": {},
   "outputs": [
    {
     "name": "stdout",
     "output_type": "stream",
     "text": [
      "I=\n",
      " [[1. 0. 0.]\n",
      " [0. 1. 0.]\n",
      " [0. 0. 1.]]\n",
      "\n",
      "A=\n",
      " [[ 6 18  3]\n",
      " [ 2 12  1]\n",
      " [ 4 15  3]]\n",
      "\n",
      "I matmul A\n",
      " [[ 6. 18.  3.]\n",
      " [ 2. 12.  1.]\n",
      " [ 4. 15.  3.]]\n"
     ]
    }
   ],
   "source": [
    "# proof\n",
    "import numpy as np\n",
    "I=np.identity(3)\n",
    "print('I=\\n',I)\n",
    "\n",
    "A=np.array([[6, 18,3],\n",
    "           [2,12,1],\n",
    "           [4, 15,3]])\n",
    "print('\\nA=\\n',A)\n",
    "print('\\nI matmul A\\n',np.matmul(I,A))"
   ]
  },
  {
   "cell_type": "markdown",
   "id": "photographic-tamil",
   "metadata": {},
   "source": [
    "### How do we use it to solve system of linear equations\n",
    "* with this we prove that we dont change A and we can substitute it with a dot product of two matrices LoweUpper\n",
    "* but how do we use it to solve a system of linear equations\n",
    "* well we can use backward and forward substitution\n",
    "\n",
    "$$ A \\textbf{x} =  \\begin{bmatrix}\n",
    "L_{11} & 0 & \\cdots & 0 \\\\\n",
    "L_{21} & L_{22} & \\cdots & 0 \\\\\n",
    "\\vdots & \\vdots & & \\vdots\\\\\n",
    "L_{m1} & L_{m2} & \\cdots & L_{mn} \n",
    "\\end{bmatrix} \n",
    "\\begin{bmatrix}\n",
    "x_{1} \\\\\n",
    "x_{2} \\\\\n",
    "\\vdots\\\\\n",
    "x_{n} \n",
    "\\end{bmatrix}   = \n",
    "\\begin{bmatrix}\n",
    "b_{1} \\\\\n",
    "b_{2} \\\\\n",
    "\\vdots\\\\\n",
    "b_{n} \n",
    "\\end{bmatrix}\n",
    "$$\n",
    "\n",
    "$$\n",
    "\\begin{align*} \n",
    "L_{11}x_1&  &= b_1 \\\\\n",
    "L_{21}x_1& + L_{22}x_2 &= b_2 \\\\\n",
    "L_{n1}x_1& + L_{n2}x_2 + \\dots + L_{mn}x_n &= b_2 \n",
    "\\end{align*} \n",
    "$$\n",
    "\n",
    "$$\n",
    "x_1=\\frac{b_1}{L_{11}}\n",
    "$$\n",
    "\n",
    "$$\n",
    "x_2=\\frac{b_2 - L_{21}x_1}{L_{22}}\n",
    "$$\n",
    "\n",
    "$$\n",
    "x_n=\\frac{b_n - \\sum_{j=1}^{n-1}L_{nj}x_j}{L_{nn}}\n",
    "$$\n",
    "\n",
    "\n",
    "This was a forward substitution but because we have two matrices we actually do it twice\n",
    "forwar and backward substitution but the principle is the same"
   ]
  },
  {
   "cell_type": "markdown",
   "id": "comparable-subject",
   "metadata": {},
   "source": [
    "## How does it work in practice"
   ]
  },
  {
   "cell_type": "markdown",
   "id": "raised-collective",
   "metadata": {},
   "source": [
    "$$6 x +  18 y + 3 z = 3$$\n",
    "$$2 x +  12 y + 1 z = 19$$\n",
    "$$4 x +  15 y + 3 z = 0$$\n",
    "\n",
    "$$ A \\textbf{x} = b \\equiv   \n",
    "\\begin{bmatrix}\n",
    "6 & 18 &  3 \\\\\n",
    "2 & 12 &  0 \\\\\n",
    "4 & 15 &  3\n",
    "\\end{bmatrix}\n",
    "\\begin{bmatrix}\n",
    "x \\\\\n",
    "y \\\\\n",
    "z \n",
    "\\end{bmatrix}   = \n",
    "\\begin{bmatrix}\n",
    "b_{1} \\\\\n",
    "b_{2} \\\\\n",
    "b_{3} \n",
    "\\end{bmatrix}\n",
    "$$\n",
    "\n",
    "first we can decompose A\n",
    "\n",
    "$$ \n",
    "\\begin{bmatrix}\n",
    "6 & 18 &  3 \\\\\n",
    "2 & 12 &  0 \\\\\n",
    "4 & 15 &  3\n",
    "\\end{bmatrix}\n",
    " =\n",
    "\\begin{bmatrix}\n",
    "3 & 0 &  0 \\\\\n",
    "1 & 6 &  0 \\\\\n",
    "2 & 3 &  1\n",
    "\\end{bmatrix}\n",
    "\\begin{bmatrix}\n",
    "2 & 6 &  1 \\\\\n",
    "0 & 1 &  0 \\\\\n",
    "0 & 0 &  1\n",
    "\\end{bmatrix}\n",
    "$$\n",
    "\n",
    "$$A=LU$$\n",
    "\n",
    "$$Ax=b$$\n",
    "$$LUx=b$$\n",
    "\n",
    "we can substitute $Ux$ with some vector $y$ for example so we get\n",
    "$$y=\n",
    "\\begin{bmatrix}\n",
    "u \\\\\n",
    "v \\\\\n",
    "w \n",
    "\\end{bmatrix}   \n",
    "$$\n",
    "\n",
    "$$Ly=b$$\n",
    "\n",
    "$$\n",
    "\\begin{bmatrix}\n",
    "3 & 0 &  0 \\\\\n",
    "1 & 6 &  0 \\\\\n",
    "2 & 3 &  1\n",
    "\\end{bmatrix}\n",
    "\\begin{bmatrix}\n",
    "u \\\\\n",
    "v \\\\\n",
    "w \n",
    "\\end{bmatrix}   = \n",
    "\\begin{bmatrix}\n",
    "b_{1} \\\\\n",
    "b_{2} \\\\\n",
    "b_{3} \n",
    "\\end{bmatrix}\n",
    "$$\n",
    "\n",
    "and we do the forward substitution\n",
    "$$y=\n",
    "\\begin{bmatrix} \n",
    "1 \\\\\n",
    "3 \\\\\n",
    "-11 \n",
    "\\end{bmatrix}\n",
    "$$\n",
    "\n",
    "next step we do use the upper matrix to solve:\n",
    "\n",
    "$$\n",
    "\\begin{bmatrix}\n",
    "2 & 6 &  1 \\\\\n",
    "0 & 1 &  0 \\\\\n",
    "0 & 0 &  1\n",
    "\\end{bmatrix}\n",
    "\\begin{bmatrix}\n",
    "x \\\\\n",
    "y \\\\\n",
    "z \n",
    "\\end{bmatrix}   = \n",
    "\\begin{bmatrix}\n",
    "1 \\\\\n",
    "3 \\\\\n",
    "-11 \n",
    "\\end{bmatrix}\n",
    "$$\n",
    "\n",
    "and we use backward substitution to finally get \n",
    "\n",
    "$$x=\n",
    "\\begin{bmatrix} \n",
    "-3 \\\\\n",
    "3 \\\\\n",
    "-11 \n",
    "\\end{bmatrix}\n",
    "$$\n"
   ]
  },
  {
   "cell_type": "code",
   "execution_count": 2,
   "id": "artificial-paste",
   "metadata": {},
   "outputs": [
    {
     "name": "stdout",
     "output_type": "stream",
     "text": [
      "\n",
      "A=\n",
      " [[ 6. 18.  3.]\n",
      " [ 2. 12.  1.]\n",
      " [ 4. 15.  3.]]\n",
      "\n",
      "L=\n",
      " [[3. 0. 0.]\n",
      " [1. 6. 0.]\n",
      " [2. 3. 1.]]\n",
      "\n",
      "U=\n",
      " [[2. 6. 1.]\n",
      " [0. 1. 0.]\n",
      " [0. 0. 1.]]\n",
      "\n",
      "L matmul U\n",
      " [[ 6. 18.  3.]\n",
      " [ 2. 12.  1.]\n",
      " [ 4. 15.  3.]]\n"
     ]
    }
   ],
   "source": [
    "# lets double check\n",
    "b=np.array([[3.],[19],[0]])\n",
    "\n",
    "A=np.array([[6., 18,3],\n",
    "           [2,12,1],\n",
    "           [4, 15,3]])\n",
    "print('\\nA=\\n',A)\n",
    "L=np.array([[3., 0,0],\n",
    "           [1,6,0],\n",
    "           [2, 3,1]])\n",
    "print('\\nL=\\n',L)\n",
    "U=np.array([[2., 6,1],\n",
    "           [0,1,0],\n",
    "           [0, 0,1]])\n",
    "print('\\nU=\\n',U)\n",
    "print('\\nL matmul U\\n',np.matmul(L,U))"
   ]
  },
  {
   "cell_type": "code",
   "execution_count": 3,
   "id": "exotic-condition",
   "metadata": {},
   "outputs": [],
   "source": [
    "import numpy as np\n",
    "def forward_sub(L, b):\n",
    "    \"\"\"x = forward_sub(L, b) is the solution to L x = b\n",
    "       L must be a lower-triangular matrix\n",
    "       b must be a vector of the same leading dimension as L\n",
    "    \"\"\"\n",
    "    n = L.shape[0]\n",
    "    x = np.zeros(n)\n",
    "    for i in range(n):\n",
    "        tmp = b[i].copy()\n",
    "        for j in range(i):\n",
    "            tmp -= L[i,j] * x[j]\n",
    "        x[i] = tmp / L[i,i]\n",
    "    return x"
   ]
  },
  {
   "cell_type": "code",
   "execution_count": 4,
   "id": "quick-specialist",
   "metadata": {},
   "outputs": [],
   "source": [
    "import numpy as np\n",
    "def back_sub(U, b):\n",
    "    \"\"\"x = back_sub(U, b) is the solution to U x = b\n",
    "       U must be an upper-triangular matrix\n",
    "       b must be a vector of the same leading dimension as U\n",
    "    \"\"\"\n",
    "    n = U.shape[0]\n",
    "    x = np.zeros(n)\n",
    "    for i in range(n-1, -1, -1):\n",
    "        tmp = b[i].copy()\n",
    "        for j in range(i+1, n):\n",
    "            tmp -= U[i,j] * x[j]\n",
    "        x[i] = tmp / U[i,i]\n",
    "    return x"
   ]
  },
  {
   "cell_type": "code",
   "execution_count": 5,
   "id": "activated-latitude",
   "metadata": {},
   "outputs": [
    {
     "name": "stdout",
     "output_type": "stream",
     "text": [
      "[  1.   3. -11.]\n"
     ]
    }
   ],
   "source": [
    "y=forward_sub(L, b)\n",
    "print(y)"
   ]
  },
  {
   "cell_type": "code",
   "execution_count": 6,
   "id": "architectural-rouge",
   "metadata": {},
   "outputs": [
    {
     "name": "stdout",
     "output_type": "stream",
     "text": [
      "[ -3.   3. -11.]\n"
     ]
    }
   ],
   "source": [
    "x=back_sub(U, y)\n",
    "print(x)"
   ]
  },
  {
   "cell_type": "code",
   "execution_count": 7,
   "id": "generic-innocent",
   "metadata": {},
   "outputs": [
    {
     "name": "stdout",
     "output_type": "stream",
     "text": [
      "[[ -3.]\n",
      " [  3.]\n",
      " [-11.]]\n"
     ]
    }
   ],
   "source": [
    "b=np.array([[3.],[19],[0]])\n",
    "\n",
    "A=np.array([[6., 18,3],\n",
    "           [2,12,1],\n",
    "           [4, 15,3]])\n",
    "\n",
    "x=np.linalg.solve(A,b)\n",
    "print(x)"
   ]
  },
  {
   "cell_type": "markdown",
   "id": "neural-religion",
   "metadata": {},
   "source": [
    "## Pivot strategies:\n",
    "\n",
    "The previous method of Gaussian Elimination for finding solutions of linear systems is mathematically exact, however round-off errors that appear in computational arithmetics can represent a real problem when high accuracy is required.\n",
    "\n",
    "In order to illustrate this, consider the next situation:\n",
    "\n",
    "$$ E_1: 0.00300x_1 + 59.14x_2 = 59.17 $$\n",
    "$$ E_2: 5.291x_1 - 6.130x_2 = 46.78 $$\n",
    "\n",
    "Using four-digit arithmetic we obtain:\n",
    "\n",
    "**1.** Constructing the augmented matrix:\n",
    "\n",
    "$$ \\left[ \\matrix{\n",
    "0.003 & 59.14 & \\vdots & 59.17 \\\\\n",
    "5.291 & -6.130 & \\vdots & 46.78\n",
    "}\\right] $$\n",
    "\n",
    "**2.** Applying the reduction with the first pivot, we obtain:\n",
    "\n",
    "$$(E_1 + m E_2)\\rightarrow (E_1)$$\n",
    "\n",
    "where:\n",
    "\n",
    "$$m = -\\frac{a_{21}}{a_{11}} = -\\frac{5.291}{0.003} = 1763.666\\cdots \\approx 1764$$\n",
    "\n",
    "In this step, we have taken the first four digits. This leads us to:\n",
    "\n",
    "$$ \\left[ \\matrix{\n",
    "0.003 & 59.14 & \\vdots & 59.17 \\\\\n",
    "0 & -104300 & \\vdots & -104400\n",
    "}\\right] $$\n",
    "\n",
    "The exact system is instead\n",
    "\n",
    "$$ \\left[ \\matrix{\n",
    "0.003 & 59.14 & \\vdots & 59.17 \\\\\n",
    "0 & -104309.37\\bar{6} & \\vdots & -104309.37\\bar{6}\n",
    "}\\right] $$\n",
    "\n",
    "Using the solution $x_2 \\approx 1.001$, we obtain\n",
    "\n",
    "$$ x_1 \\approx \\frac{59.17 - (59.14)(1.001)}{0.00300} = -10 $$\n",
    "\n",
    "The exact solution is however:\n",
    "\n",
    "$$ x_1 = 10.00 $$\n",
    "\n",
    "The source of such a large error is that the factor $59.14/0.00300 \\approx 20000$. This quantity is propagated through the combination steps of the Gaussian Elimination, yielding a complete wrong result."
   ]
  },
  {
   "cell_type": "markdown",
   "id": "perceived-manitoba",
   "metadata": {},
   "source": [
    "### LU with pivoting\n",
    "Earlier we saw that without the pivoting \n",
    "\n",
    "$$A=LU$$\n",
    "\n",
    "but the actual optimized algorithm there is one more extra matrix called Permutation Matrix\n",
    "\n",
    "$$A=PLU$$\n"
   ]
  },
  {
   "cell_type": "markdown",
   "id": "pregnant-public",
   "metadata": {},
   "source": [
    "### P, L, U = scipy.linalg.lu(A)"
   ]
  },
  {
   "cell_type": "code",
   "execution_count": 8,
   "id": "intense-apple",
   "metadata": {},
   "outputs": [
    {
     "name": "stdout",
     "output_type": "stream",
     "text": [
      "\n",
      "A=\n",
      " [[1.e-07 2.e+00]\n",
      " [3.e+00 4.e+00]]\n",
      "\n",
      "P matmul A\n",
      " [[3.e+00 4.e+00]\n",
      " [1.e-07 2.e+00]]\n",
      "\n",
      "L matmul U\n",
      " [[3.e+00 4.e+00]\n",
      " [1.e-07 2.e+00]]\n"
     ]
    }
   ],
   "source": [
    "# proof that 𝑃𝐴=𝐿𝑈\n",
    "import scipy.linalg\n",
    "A= np.array ([[10E-8 ,2] ,[3 ,4]])\n",
    "P, L, U = scipy.linalg.lu(A)\n",
    "print('\\nA=\\n',A)\n",
    "print('\\nP matmul A\\n',np.matmul(P,A))\n",
    "print('\\nL matmul U\\n',np.matmul(L,U))"
   ]
  },
  {
   "cell_type": "markdown",
   "id": "animated-violation",
   "metadata": {},
   "source": [
    "A=PLU"
   ]
  },
  {
   "cell_type": "code",
   "execution_count": 5,
   "id": "baking-priest",
   "metadata": {},
   "outputs": [
    {
     "name": "stdout",
     "output_type": "stream",
     "text": [
      "[[1. 1. 1.]\n",
      " [2. 3. 5.]\n",
      " [4. 6. 8.]]\n",
      "[[0. 1. 0.]\n",
      " [0. 0. 1.]\n",
      " [1. 0. 0.]]\n",
      "[[ 1.    0.    0.  ]\n",
      " [ 0.25  1.    0.  ]\n",
      " [ 0.5  -0.    1.  ]]\n",
      "[[ 4.   6.   8. ]\n",
      " [ 0.  -0.5 -1. ]\n",
      " [ 0.   0.   1. ]]\n",
      "[[1. 1. 1.]\n",
      " [2. 3. 5.]\n",
      " [4. 6. 8.]]\n"
     ]
    }
   ],
   "source": [
    "import scipy.linalg\n",
    "import numpy as np\n",
    "A=np.array([[1., 1,1],\n",
    "           [2,3,5],\n",
    "           [4, 6,8]])\n",
    "print(A)\n",
    "P, L, U = scipy.linalg.lu(A)\n",
    "print(P)\n",
    "print(L)\n",
    "print(U)\n",
    "print(P@L@U)"
   ]
  },
  {
   "cell_type": "markdown",
   "id": "sapphire-lexington",
   "metadata": {},
   "source": [
    "# x=np.linalg.solve(A,b)\n",
    "\n",
    "## everything above was to show how the and the above is to remember how to use\n",
    "## we only showed that `np.linalg.solve` uses LU decomposition\n",
    "\n",
    "x=np.linalg.solve(A,b)\n",
    "\n",
    "works\n",
    "\n",
    "*(Check with the numpy original routine)"
   ]
  },
  {
   "cell_type": "code",
   "execution_count": 10,
   "id": "conditional-bunny",
   "metadata": {},
   "outputs": [
    {
     "name": "stdout",
     "output_type": "stream",
     "text": [
      "\n",
      "A=\n",
      " [[ 6. 18.  3.]\n",
      " [ 2. 12.  1.]\n",
      " [ 4. 15.  3.]]\n",
      "\n",
      "b=\n",
      " [[ 3.]\n",
      " [19.]\n",
      " [ 0.]]\n",
      "\n",
      " x= \n",
      " [[ -3.]\n",
      " [  3.]\n",
      " [-11.]]\n"
     ]
    }
   ],
   "source": [
    "# so lets double check with the previous example\n",
    "b=np.array([[3.],[19],[0]])\n",
    "\n",
    "A=np.array([[6., 18,3],\n",
    "           [2,12,1],\n",
    "           [4, 15,3]])\n",
    "\n",
    "print('\\nA=\\n',A)\n",
    "print('\\nb=\\n',b)\n",
    "x=np.linalg.solve(A,b)\n",
    "print('\\n x= \\n',x)\n"
   ]
  },
  {
   "cell_type": "markdown",
   "id": "suited-gospel",
   "metadata": {},
   "source": [
    "## Matrix Inversion... Almost a new way of solving the system of linear equations)\n",
    "\n",
    "Asumming a nonsingular matrix $A$, if a matrix $A^{-1}$ exists, with $AA^{-1} = I$ and $A^{-1}A = I$, where $I$ is the identity matrix, then $A^{-1}$ is called the inverse matrix of $A$. If such a matrix does not exist, $A$ **is said to be a singular matrix.**\n",
    "\n",
    "A corollary of this definition is that $A$ is also the inverse matrix of $A^{-1}$.\n",
    "\n",
    "Once defined the Gaussian Elimination method, it is possible to extend it in order to find the inverse of any nonsingular matrix.\n",
    "Let's consider the next equation:\n",
    "\n",
    "$$ AA^{-1} = AB= \\begin{bmatrix}\n",
    "a_{11} & a_{12} & \\cdots & a_{1n} \\\\\n",
    "a_{21} & a_{22} & \\cdots & a_{2n} \\\\\n",
    "\\vdots & \\vdots & & \\vdots \\\\\n",
    "a_{m1} & a_{n2} & \\cdots & a_{nn} \\\\\n",
    "\\end{bmatrix}\n",
    "\\begin{bmatrix}\n",
    "b_{11} & b_{12} & \\cdots & b_{1n} \\\\\n",
    "b_{21} & b_{22} & \\cdots & b_{2n} \\\\\n",
    "\\vdots & \\vdots & & \\vdots\\\\\n",
    "b_{n1} & b_{n2} & \\cdots & b_{nn} \\\\\n",
    "\\end{bmatrix} = \n",
    "\\begin{bmatrix}\n",
    "1 & 0 & \\cdots & 0 \\\\\n",
    "0 & 1 & \\cdots & 0 \\\\\n",
    "\\vdots & \\vdots & \\ddots & \\vdots\\\\\n",
    "0 & 0 & \\cdots & 1 \\\\\n",
    "\\end{bmatrix}$$\n",
    "\n",
    "This can be rewritten as a set of $n$ systems of equations, i.e.\n",
    "\n",
    "$$\\begin{bmatrix}\n",
    "a_{11} & a_{12} & \\cdots & a_{1n} \\\\\n",
    "a_{21} & a_{22} & \\cdots & a_{2n} \\\\\n",
    "\\vdots & \\vdots & & \\vdots \\\\\n",
    "a_{n1} & a_{n2} & \\cdots & a_{nn} \\\\\n",
    "\\end{bmatrix}\n",
    "\\begin{bmatrix}\n",
    "b_{11} \\\\\n",
    "b_{21} \\\\\n",
    "\\vdots \\\\\n",
    "b_{n1} \\\\\n",
    "\\end{bmatrix} = \n",
    "\\begin{bmatrix}\n",
    "1 \\\\\n",
    "0 \\\\\n",
    "\\vdots \\\\\n",
    "0 \\\\\n",
    "\\end{bmatrix}$$\n",
    "\n",
    "$$\\begin{bmatrix}\n",
    "a_{11} & a_{12} & \\cdots & a_{1n} \\\\\n",
    "a_{21} & a_{22} & \\cdots & a_{2n} \\\\\n",
    "\\vdots & \\vdots & & \\vdots\\\\\n",
    "a_{n1} & a_{n2} & \\cdots & a_{nn} \n",
    "\\end{bmatrix}\n",
    "\\begin{bmatrix}\n",
    "b_{12} \\\\\n",
    "b_{22} \\\\\n",
    "\\vdots \\\\\n",
    "b_{n2} \\\\\n",
    "\\end{bmatrix} = \n",
    "\\begin{bmatrix}\n",
    "0 \\\\\n",
    "1 \\\\\n",
    "\\vdots \\\\\n",
    "0 \\\\\n",
    "\\end{bmatrix}$$\n",
    "\n",
    "$$\\begin{bmatrix}\n",
    "a_{11} & a_{12} & \\cdots & a_{1n} \\\\\n",
    "a_{21} & a_{22} & \\cdots & a_{2n} \\\\\n",
    "\\vdots & \\vdots & & \\vdots \\\\\n",
    "a_{n1} & a_{n2} & \\cdots & a_{nn}  \\\\\n",
    "\\end{bmatrix}\n",
    "\\begin{bmatrix}\n",
    "b_{1n} \\\\\n",
    "b_{2n} \\\\\n",
    "\\vdots \\\\\n",
    "b_{nn} \\\\\n",
    "\\end{bmatrix} = \n",
    "\\begin{bmatrix}\n",
    "0 \\\\\n",
    "0 \\\\\n",
    "\\vdots \\\\\n",
    "1 \\\\\n",
    "\\end{bmatrix}$$\n",
    "\n",
    "These systems can be solved individually by using Gaussian Elimination, however we can mix all the problems, obtaining the augmented matrix:\n",
    "\n",
    "$$\\begin{bmatrix}\n",
    "a_{11} & a_{12} & \\cdots & a_{1n} & \\vdots & 1 & 0 & \\cdots & 0 \\\\\n",
    "a_{21} & a_{22} & \\cdots & a_{2n} & \\vdots & 0 & 1 & \\cdots & 0 \\\\\n",
    "\\vdots & \\vdots & & \\vdots & \\vdots & \\vdots & \\vdots & \\ddots & \\vdots\\\\\n",
    "a_{n1} & a_{n2} & \\cdots & a_{nn} & \\vdots & 0 & 0 & \\cdots & 1\n",
    "\\end{bmatrix}$$\n",
    "\n",
    "Now, applying Gaussian Elimination we can obtain a upper diagonal form for the first matrix. Completing the steps using forwards elimination we can convert the first matrix into the identity matrix, obtaining \n",
    "\n",
    "$$\\begin{bmatrix}\n",
    "1 & 0 & \\cdots & 0 & \\vdots & b_{11} & b_{12} & \\cdots & b_{1n} \\\\\n",
    "0 & 1 & \\cdots & 0 & \\vdots & b_{21} & b_{22} & \\cdots & b_{2n} \\\\\n",
    "\\vdots & \\vdots & \\ddots & \\vdots & \\vdots & \\vdots & \\vdots & & \\vdots\\\\\n",
    "0 & 0 & \\cdots & 1 & \\vdots & b_{n1} & b_{n2} & \\cdots & b_{nn}\n",
    "\\end{bmatrix}$$\n",
    "\n",
    "Where the second matrix is then the inverse $B=A^{-1}$.\n",
    "\n",
    "* this can be easily achieved by using Gauss-Jordan elimination on augmented matrix"
   ]
  },
  {
   "cell_type": "markdown",
   "id": "written-processor",
   "metadata": {},
   "source": [
    "### Try using `upper diagonal` and `elimination` function from the previous class return inverted matrix from given matrix `A`. "
   ]
  },
  {
   "cell_type": "markdown",
   "id": "processed-quest",
   "metadata": {},
   "source": [
    "### Identity matrix in Python\n",
    "recall the indentity matrix... ones on the diagonal and zero elsewhere\n",
    "\n",
    "For any matrix:\n",
    "\n",
    "$$\n",
    "\\begin{bmatrix}\n",
    "1 & 0 &  0 \\\\\n",
    "0 & 1 &  0 \\\\\n",
    "0 & 0 &  1\n",
    "\\end{bmatrix}\n",
    "\\begin{bmatrix}\n",
    "a_{11} & a_{12} &  a_{13} \\\\\n",
    "a_{21} & a_{22} &  a_{23} \\\\\n",
    "a_{31} & a_{32} &  a_{33}\n",
    "\\end{bmatrix}\n",
    "=\n",
    "\\begin{bmatrix}\n",
    "a_{11} & a_{12} &  a_{13} \\\\\n",
    "a_{21} & a_{22} &  a_{23} \\\\\n",
    "a_{31} & a_{32} &  a_{33}\n",
    "\\end{bmatrix}\n",
    "\\begin{bmatrix}\n",
    "1 & 0 &  0 \\\\\n",
    "0 & 1 &  0 \\\\\n",
    "0 & 0 &  1\n",
    "\\end{bmatrix}\n",
    "=\n",
    "\\begin{bmatrix}\n",
    "a_{11} & a_{12} &  a_{13} \\\\\n",
    "a_{21} & a_{22} &  a_{23} \\\\\n",
    "a_{31} & a_{32} &  a_{33}\n",
    "\\end{bmatrix}\n",
    "$$\n",
    "\n",
    "so\n",
    "$$IA=AI=A$$"
   ]
  },
  {
   "cell_type": "code",
   "execution_count": 2,
   "id": "pregnant-singapore",
   "metadata": {},
   "outputs": [
    {
     "name": "stdout",
     "output_type": "stream",
     "text": [
      "I=\n",
      " [[1. 0. 0.]\n",
      " [0. 1. 0.]\n",
      " [0. 0. 1.]]\n",
      "\n",
      "A=\n",
      " [[ 6 18  3]\n",
      " [ 2 12  1]\n",
      " [ 4 15  3]]\n",
      "\n",
      "I x A\n",
      " [[ 6. 18.  3.]\n",
      " [ 2. 12.  1.]\n",
      " [ 4. 15.  3.]]\n"
     ]
    }
   ],
   "source": [
    "# proof\n",
    "import numpy as np\n",
    "I=np.identity(3)\n",
    "print('I=\\n',I)\n",
    "\n",
    "A=np.array([[6, 18,3],\n",
    "           [2,12,1],\n",
    "           [4, 15,3]])\n",
    "print('\\nA=\\n',A)\n",
    "print('\\nI x A\\n',I@A)"
   ]
  },
  {
   "cell_type": "markdown",
   "id": "improving-crazy",
   "metadata": {},
   "source": [
    "# but all you have to remember is: ` A_inv=np.linalg.inv(A)`"
   ]
  },
  {
   "cell_type": "markdown",
   "id": "sophisticated-signature",
   "metadata": {},
   "source": [
    "* looks useless but the above implies that if:\n",
    "$$𝐼𝐴=𝐴𝐼=𝐴$$\n",
    "\n",
    "* then \n",
    "$$𝐴=𝐴𝐼$$\n",
    "\n",
    "* so \n",
    "that means there exists a matrix that inverts the previous one in such a way:\n",
    "\n",
    "$$AA^{-1}=I$$\n",
    "\n",
    "* $A^{-1}$ is like putting the matrix on the other side of the equation"
   ]
  },
  {
   "cell_type": "code",
   "execution_count": 13,
   "id": "marine-parish",
   "metadata": {},
   "outputs": [
    {
     "name": "stdout",
     "output_type": "stream",
     "text": [
      "\n",
      "A=\n",
      " [[ 6 18  3]\n",
      " [ 2 12  1]\n",
      " [ 4 15  3]]\n",
      "\n",
      "A^-1 =\n",
      " [[ 0.58333333 -0.25       -0.5       ]\n",
      " [-0.05555556  0.16666667  0.        ]\n",
      " [-0.5        -0.5         1.        ]]\n",
      "\n",
      "A A^-1 =\n",
      " [[ 1.00000000e+00  2.22044605e-16  0.00000000e+00]\n",
      " [-1.11022302e-16  1.00000000e+00  0.00000000e+00]\n",
      " [-2.22044605e-16  0.00000000e+00  1.00000000e+00]]\n"
     ]
    }
   ],
   "source": [
    "import numpy as np\n",
    "\n",
    "A=np.array([[6, 18,3],\n",
    "           [2,12,1],\n",
    "           [4, 15,3]])\n",
    "\n",
    "A_inv=np.linalg.inv(A)\n",
    "print('\\nA=\\n',A)\n",
    "\n",
    "print('\\nA^-1 =\\n',A_inv)\n",
    "\n",
    "# lets check that AA^-1=I\n",
    "\n",
    "print('\\nA A^-1 =\\n',np.matmul(A,A_inv))\n"
   ]
  },
  {
   "cell_type": "markdown",
   "id": "driving-merit",
   "metadata": {},
   "source": [
    "# How can this be useful in solving system of linear equations:\n",
    "Inverted matrix serves as \"matrix division\"\n",
    "\n",
    "* if $Ax=b$\n"
   ]
  },
  {
   "cell_type": "markdown",
   "id": "refined-walnut",
   "metadata": {},
   "source": [
    "$$6 x +  18 y + 3 z = 3$$\n",
    "$$2 x +  12 y + 1 z = 19$$\n",
    "$$4 x +  15 y + 3 z = 0$$\n",
    "\n",
    "$$ A \\textbf{x} = b \\equiv   \n",
    "\\begin{bmatrix}\n",
    "6 & 18 &  3 \\\\\n",
    "2 & 12 &  0 \\\\\n",
    "4 & 15 &  3\n",
    "\\end{bmatrix}\n",
    "\\begin{bmatrix}\n",
    "x \\\\\n",
    "y \\\\\n",
    "z \n",
    "\\end{bmatrix}   = \n",
    "\\begin{bmatrix}\n",
    "b_{1} \\\\\n",
    "b_{2} \\\\\n",
    "b_{3} \n",
    "\\end{bmatrix}\n",
    "$$\n",
    "\n",
    "\n",
    "then ***$x=A^{-1}b$*** !!! And we just solve it for x"
   ]
  },
  {
   "cell_type": "markdown",
   "id": "framed-centre",
   "metadata": {},
   "source": [
    "### lets check this out"
   ]
  },
  {
   "cell_type": "code",
   "execution_count": 3,
   "id": "circular-substitute",
   "metadata": {},
   "outputs": [],
   "source": [
    "# lets double check\n",
    "b=np.array([[3.],[19],[0]])\n",
    "\n",
    "A=np.array([[6., 18,3],\n",
    "           [2,12,1],\n",
    "           [4, 15,3]])"
   ]
  },
  {
   "cell_type": "code",
   "execution_count": 10,
   "id": "protected-senator",
   "metadata": {},
   "outputs": [
    {
     "name": "stdout",
     "output_type": "stream",
     "text": [
      "A=\n",
      " [[ 6. 18.  3.]\n",
      " [ 2. 12.  1.]\n",
      " [ 4. 15.  3.]]\n",
      "\n",
      "Ainv=\n",
      " [[ 0.58333333 -0.25       -0.5       ]\n",
      " [-0.05555556  0.16666667  0.        ]\n",
      " [-0.5        -0.5         1.        ]]\n"
     ]
    }
   ],
   "source": [
    "print('A=\\n',A)\n",
    "print()\n",
    "A_inv=np.linalg.inv(A)\n",
    "print('Ainv=\\n',A_inv)"
   ]
  },
  {
   "cell_type": "markdown",
   "id": "supreme-savage",
   "metadata": {},
   "source": [
    "applying: $x=A^{-1}b$"
   ]
  },
  {
   "cell_type": "code",
   "execution_count": 13,
   "id": "cubic-abortion",
   "metadata": {},
   "outputs": [
    {
     "name": "stdout",
     "output_type": "stream",
     "text": [
      "Ainv x b=\n",
      " [[ -3.]\n",
      " [  3.]\n",
      " [-11.]]\n"
     ]
    }
   ],
   "source": [
    "print('Ainv x b=\\n',A_inv@b)"
   ]
  },
  {
   "cell_type": "markdown",
   "id": "oriented-composition",
   "metadata": {},
   "source": [
    "Numerically using numpy linear algebra package:  \n",
    "`x=np.linalg.solve(A,b)`"
   ]
  },
  {
   "cell_type": "markdown",
   "id": "permanent-trance",
   "metadata": {},
   "source": [
    "## and now compare it with:  `x=np.linalg.solve(A,b)`"
   ]
  },
  {
   "cell_type": "code",
   "execution_count": 14,
   "id": "substantial-barrel",
   "metadata": {},
   "outputs": [
    {
     "name": "stdout",
     "output_type": "stream",
     "text": [
      "\n",
      "b=\n",
      " [[ 3.]\n",
      " [19.]\n",
      " [ 0.]]\n",
      "\n",
      "A=\n",
      " [[ 6. 18.  3.]\n",
      " [ 2. 12.  1.]\n",
      " [ 4. 15.  3.]]\n",
      "\n",
      "x =\n",
      " [[ -3.]\n",
      " [  3.]\n",
      " [-11.]]\n"
     ]
    }
   ],
   "source": [
    "# lets double check\n",
    "b=np.array([[3.],[19],[0]])\n",
    "\n",
    "A=np.array([[6., 18,3],\n",
    "           [2,12,1],\n",
    "           [4, 15,3]])\n",
    "\n",
    "print('\\nb=\\n',b)\n",
    "\n",
    "print('\\nA=\\n',A)\n",
    "\n",
    "x=np.linalg.solve(A,b)\n",
    "\n",
    "print('\\nx =\\n',x)"
   ]
  },
  {
   "cell_type": "markdown",
   "id": "automated-processing",
   "metadata": {},
   "source": [
    "* numpy.inv also uses LU decomposion"
   ]
  },
  {
   "cell_type": "markdown",
   "id": "dedicated-damage",
   "metadata": {},
   "source": [
    "## Matrix transpose"
   ]
  },
  {
   "cell_type": "markdown",
   "id": "atlantic-summit",
   "metadata": {},
   "source": [
    "$$\n",
    "\\begin{bmatrix}\n",
    "2 & 4 &  -1 \\\\\n",
    "-10 & 5 &  1 \\\\\n",
    "18 & -7 &  6\n",
    "\\end{bmatrix}^T =\n",
    "\\begin{bmatrix}\n",
    "2 & -10 &  -18 \\\\\n",
    "4 & 5 &  -7 \\\\\n",
    "-1 & 11 &  6\n",
    "\\end{bmatrix} \n",
    "$$\n",
    "\n",
    "<img src=\"imgs/matrix_transpose.png\" width=\"600\" />"
   ]
  },
  {
   "cell_type": "code",
   "execution_count": 17,
   "id": "blank-present",
   "metadata": {},
   "outputs": [
    {
     "name": "stdout",
     "output_type": "stream",
     "text": [
      "A=\n",
      " [[  2   4  -1]\n",
      " [-10   5  11]\n",
      " [ 18  -7   6]]\n",
      "A^T=\n",
      " [[  2 -10  18]\n",
      " [  4   5  -7]\n",
      " [ -1  11   6]]\n"
     ]
    }
   ],
   "source": [
    "import numpy as np\n",
    "\n",
    "A=np.array([[2, 4,-1],\n",
    "           [-10,5,11],\n",
    "           [18, -7,6]])\n",
    "print('A=\\n',A)\n",
    "print('A^T=\\n',A.T)"
   ]
  },
  {
   "cell_type": "markdown",
   "id": "tough-bridges",
   "metadata": {},
   "source": [
    "## Matrix Hermitian transpose (complex conjugate transpose of a matrix)"
   ]
  },
  {
   "cell_type": "markdown",
   "id": "cutting-letter",
   "metadata": {},
   "source": [
    "$$\n",
    "\\begin{bmatrix}\n",
    "1-3i & 6 &  -7i \\\\\n",
    "2+i & 8-2i &  1-9i \\\\\n",
    "4i & 3+5i &  -2-i\n",
    "\\end{bmatrix} ^H=\n",
    "\\begin{bmatrix}\n",
    "1+3i & 2-1i &  -4i \\\\\n",
    "6 & 8+2i &  3-5i \\\\\n",
    "7i & 1+9i &  -2+i\n",
    "\\end{bmatrix} = \n",
    "$$"
   ]
  },
  {
   "cell_type": "code",
   "execution_count": 18,
   "id": "interstate-creek",
   "metadata": {},
   "outputs": [
    {
     "name": "stdout",
     "output_type": "stream",
     "text": [
      "A=\n",
      " [[ 1.+3.j  2.-1.j -0.-4.j]\n",
      " [ 6.+0.j  8.+2.j  3.-5.j]\n",
      " [ 0.+7.j  1.+9.j -2.+1.j]]\n",
      "A^H=\n",
      " [[ 1.-3.j  6.-0.j  0.-7.j]\n",
      " [ 2.+1.j  8.-2.j  1.-9.j]\n",
      " [-0.+4.j  3.+5.j -2.-1.j]]\n"
     ]
    }
   ],
   "source": [
    "import numpy as np\n",
    "A=np.matrix([[1+3j, 2-1j,-4j],\n",
    "           [6,8+2j,3-5j],\n",
    "           [7j, 1+9j,-2+1j]])\n",
    "print('A=\\n',A)\n",
    "print('A^H=\\n',A.getH())"
   ]
  }
 ],
 "metadata": {
  "kernelspec": {
   "display_name": "Python 3",
   "language": "python",
   "name": "python3"
  },
  "language_info": {
   "codemirror_mode": {
    "name": "ipython",
    "version": 3
   },
   "file_extension": ".py",
   "mimetype": "text/x-python",
   "name": "python",
   "nbconvert_exporter": "python",
   "pygments_lexer": "ipython3",
   "version": "3.7.2"
  }
 },
 "nbformat": 4,
 "nbformat_minor": 5
}
